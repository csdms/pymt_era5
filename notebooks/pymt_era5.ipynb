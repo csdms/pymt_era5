{
 "cells": [
  {
   "cell_type": "markdown",
   "id": "persistent-worst",
   "metadata": {},
   "source": [
    "<img src=\"https://github.com/gantian127/pymt_era5/blob/master/docs/_static/logo.png?raw=true\" width='600' align='center'></a>"
   ]
  },
  {
   "cell_type": "markdown",
   "id": "c52b21de",
   "metadata": {},
   "source": [
    "## Basic Info\n",
    "This Jupyter Notebook was created by Tian Gan. You can run this Jupyter Notebook through [HydroShare](https://www.hydroshare.org/resource/765e4e8bebab4eea8d72ee447a27c2fa/).\n",
    "\n",
    "If you have any suggestion to improve the current functions of the pymt_era5 package, please create a github issue [here](https://github.com/gantian127/pymt_era5).\n",
    "\n",
    "Suggested citation: Gan, T. (2021). Jupyter Notebooks for the ERA5 Data Component, HydroShare, https://www.hydroshare.org/resource/765e4e8bebab4eea8d72ee447a27c2fa/"
   ]
  },
  {
   "cell_type": "markdown",
   "id": "political-argentina",
   "metadata": {},
   "source": [
    "## Introduction"
   ]
  },
  {
   "cell_type": "markdown",
   "id": "increasing-cooper",
   "metadata": {},
   "source": [
    "[pymt_era5](https://github.com/gantian127/pymt_era5) is a package that uses the [bmi_era5](https://github.com/gantian127/bmi_era5) pacakge to convert ERA5 datasets into a reusable, plug-and-play data component for PyMT modeling framework developed by Community Surface Dynamics Modeling System ([CSDMS](https://csdms.colorado.edu/wiki/Main_Page)). This allows ERA5 datasets (currently support 3 dimensional data) to be easily coupled with other datasets or models that expose a Basic Model Interface."
   ]
  },
  {
   "cell_type": "markdown",
   "id": "114f9870",
   "metadata": {},
   "source": [
    "### Install pymt"
   ]
  },
  {
   "cell_type": "markdown",
   "id": "9871b1e7",
   "metadata": {},
   "source": [
    "If you run this notebook on [HydroShare](https://www.hydroshare.org/resource/765e4e8bebab4eea8d72ee447a27c2fa/), please skip this step. Otherwise, please follow the [instructions](https://github.com/gantian127/pymt_era5/blob/master/README.rst) to create a separate environment and install pymt."
   ]
  },
  {
   "cell_type": "markdown",
   "id": "67cd149e",
   "metadata": {},
   "source": [
    "### Install pymt_era5"
   ]
  },
  {
   "cell_type": "markdown",
   "id": "4e12b7b9",
   "metadata": {},
   "source": [
    "Let's first use a helper function to install the CDS API, which is a Python package used by pymt_era5 to download the ERA5 data. install_cds( ) function will ask for your CDS API Key. So please make sure you have already created an account at the [CDS registration page](https://cds.climate.copernicus.eu/#!/home) and obtained your CDS API Key. For more details please check [here](https://cds.climate.copernicus.eu/api-how-to)."
   ]
  },
  {
   "cell_type": "code",
   "execution_count": null,
   "id": "9074b3bb",
   "metadata": {},
   "outputs": [],
   "source": [
    "from installation import install_cds\n",
    "install_cds()"
   ]
  },
  {
   "cell_type": "markdown",
   "id": "excited-norway",
   "metadata": {},
   "source": [
    "After you successfully run the helper function above, use the following command to install the pymt_era5 package. "
   ]
  },
  {
   "cell_type": "code",
   "execution_count": null,
   "id": "powerful-staff",
   "metadata": {},
   "outputs": [],
   "source": [
    "!pip install pymt_era5"
   ]
  },
  {
   "cell_type": "markdown",
   "id": "thermal-lodge",
   "metadata": {},
   "source": [
    "## Coding Examples"
   ]
  },
  {
   "cell_type": "markdown",
   "id": "3ffcc219",
   "metadata": {},
   "source": [
    "This section provides two examples to demonstrate how to use the CDS API and the pymt_era5 package to download the same ERA5 dataset for visualization."
   ]
  },
  {
   "cell_type": "markdown",
   "id": "46b24d17",
   "metadata": {},
   "source": [
    "### Example 1: use CDS API to download the ERA5 data¶"
   ]
  },
  {
   "cell_type": "markdown",
   "id": "4127be75",
   "metadata": {},
   "source": [
    "Import cdsapi module and create an object from the \"Client\" class. Use retrieve( ) method to make a request for data download. You can check the details of the parameter settings for a request from the [CDS web interface](https://confluence.ecmwf.int/display/CKB/How+to+download+ERA5#HowtodownloadERA5-3-DownloadingonlineERA5familydatathroughtheCDSwebinterface). \n",
    "\n",
    "In this example, it downloads the ERA5 hourly reanalysis data on single level for 2 metre temperature and total precipitation in Colorado on Jan 1st, 2021. The grid resolution is 0.25 degree. The dataset is saved in a netCDF file. \n",
    "\n",
    "Please note that sometimes your request may be in queue, which will take more than 10 minutes to download the dataset. If you get the \"authentication error\", this may be caused by wrong CDS API Key you provided when you run install_cds( ) function. You can rerun this function and make sure to enter the right API Key."
   ]
  },
  {
   "cell_type": "code",
   "execution_count": 1,
   "id": "5b4e364b",
   "metadata": {},
   "outputs": [
    {
     "name": "stderr",
     "output_type": "stream",
     "text": [
      "2021-09-10 12:01:11,511 INFO Welcome to the CDS\n",
      "2021-09-10 12:01:11,512 INFO Sending request to https://cds.climate.copernicus.eu/api/v2/resources/reanalysis-era5-single-levels\n",
      "2021-09-10 12:01:11,824 INFO Request is completed\n",
      "2021-09-10 12:01:11,825 INFO Downloading https://download-0014.copernicus-climate.eu/cache-compute-0014/cache/data8/adaptor.mars.internal-1631295760.3619092-20035-12-71971483-a624-4869-b06f-230556fb72a7.nc to download.nc (8.6K)\n",
      "2021-09-10 12:01:12,750 INFO Download rate 9.3K/s                                                 \n"
     ]
    },
    {
     "data": {
      "text/plain": [
       "Result(content_length=8836,content_type=application/x-netcdf,location=https://download-0014.copernicus-climate.eu/cache-compute-0014/cache/data8/adaptor.mars.internal-1631295760.3619092-20035-12-71971483-a624-4869-b06f-230556fb72a7.nc)"
      ]
     },
     "execution_count": 1,
     "metadata": {},
     "output_type": "execute_result"
    }
   ],
   "source": [
    "import cdsapi\n",
    "import xarray\n",
    "import matplotlib.pyplot as plt\n",
    "\n",
    "c = cdsapi.Client()\n",
    "\n",
    "c.retrieve(\n",
    "    'reanalysis-era5-single-levels',\n",
    "    {\n",
    "        'product_type': 'reanalysis',\n",
    "        'format': 'netcdf',\n",
    "        'variable': ['2m_temperature', 'total_precipitation'],\n",
    "        'year': '2021',\n",
    "        'month': '01',\n",
    "        'day': '01',\n",
    "        'time': [ '00:00', '01:00', '02:00'],\n",
    "        'area': [ 41, -109, 36, -102],\n",
    "        'grid': [0.25, 0.25]\n",
    "    },\n",
    "    'download.nc')"
   ]
  },
  {
   "cell_type": "markdown",
   "id": "642e487d",
   "metadata": {},
   "source": [
    "Use xarray to load the netCDF file and select the data for the 2 metre temperature on 2021-01-01 at 00:00."
   ]
  },
  {
   "cell_type": "code",
   "execution_count": 2,
   "id": "b8fecec1",
   "metadata": {},
   "outputs": [],
   "source": [
    "# load netCDF data\n",
    "dataset = xarray.open_dataset('download.nc')\n",
    "\n",
    "# select 2 metre temperature on 2021-01-01 at 00:00\n",
    "air_temp = dataset.t2m.isel(time=0)"
   ]
  },
  {
   "cell_type": "markdown",
   "id": "ca83c7a6",
   "metadata": {},
   "source": [
    "The temperature dataset is loaded as a DataArray object (xarray). You can directly plot the data using its plot( ) method."
   ]
  },
  {
   "cell_type": "code",
   "execution_count": 3,
   "id": "847a6dab",
   "metadata": {},
   "outputs": [
    {
     "data": {
      "text/plain": [
       "Text(0.5, 1.0, '2 metre temperature in Colorado on Jan 1st, 2021 at 00:00')"
      ]
     },
     "execution_count": 3,
     "metadata": {},
     "output_type": "execute_result"
    },
    {
     "data": {
      "image/png": "[encoded data removed]",
      "text/plain": [
       "<Figure size 648x360 with 2 Axes>"
      ]
     },
     "metadata": {
      "needs_background": "light"
     },
     "output_type": "display_data"
    }
   ],
   "source": [
    "# plot data\n",
    "air_temp.plot(figsize=(9,5))\n",
    "plt.title('2 metre temperature in Colorado on Jan 1st, 2021 at 00:00')"
   ]
  },
  {
   "cell_type": "markdown",
   "id": "7d96aa0e",
   "metadata": {},
   "source": [
    "### Example 2: use pymt_era5 to download the ERA5 data "
   ]
  },
  {
   "cell_type": "markdown",
   "id": "nuclear-creativity",
   "metadata": {},
   "source": [
    "Import Era5 class and instantiate it. A configuration file (yaml file) is required to provide the parameter settings for data download. An example yaml file is provided in the same folder with this Jupyter Notebook. "
   ]
  },
  {
   "cell_type": "code",
   "execution_count": 4,
   "id": "secret-briefing",
   "metadata": {},
   "outputs": [
    {
     "name": "stderr",
     "output_type": "stream",
     "text": [
      "2021-09-10 12:04:47,511 INFO Welcome to the CDS\n",
      "2021-09-10 12:04:47,513 INFO Sending request to https://cds.climate.copernicus.eu/api/v2/resources/reanalysis-era5-single-levels\n",
      "2021-09-10 12:04:47,715 INFO Request is completed\n",
      "2021-09-10 12:04:47,716 INFO Downloading https://download-0014.copernicus-climate.eu/cache-compute-0014/cache/data8/adaptor.mars.internal-1631295760.3619092-20035-12-71971483-a624-4869-b06f-230556fb72a7.nc to single_hour.nc (8.6K)\n",
      "2021-09-10 12:04:48,262 INFO Download rate 15.8K/s                                                \n"
     ]
    }
   ],
   "source": [
    "import matplotlib.pyplot as plt\n",
    "import numpy as np\n",
    "\n",
    "from pymt.models import Era5\n",
    "\n",
    "# initiate a data component\n",
    "data_comp = Era5()\n",
    "data_comp.initialize('config_file.yaml')"
   ]
  },
  {
   "cell_type": "markdown",
   "id": "a41c5b17",
   "metadata": {},
   "source": [
    "If you check the contents in the config_file.yaml, you will find out that the parameters are the same as the parameters specified in the retrieve( ) method from the CDS API. "
   ]
  },
  {
   "cell_type": "code",
   "execution_count": 5,
   "id": "43889844",
   "metadata": {},
   "outputs": [
    {
     "name": "stdout",
     "output_type": "stream",
     "text": [
      "bmi-era5:\r\n",
      "  name: reanalysis-era5-single-levels\r\n",
      "  request:\r\n",
      "    variable:\r\n",
      "      - 2m_temperature\r\n",
      "      - total_precipitation\r\n",
      "    product_type: reanalysis\r\n",
      "    year: 2021\r\n",
      "    month: 01\r\n",
      "    day: 01\r\n",
      "    time:\r\n",
      "      - 00:00\r\n",
      "      - 01:00\r\n",
      "      - 02:00\r\n",
      "    format: netcdf\r\n",
      "    area:\r\n",
      "      - 41\r\n",
      "      - -109\r\n",
      "      - 36\r\n",
      "      - -102\r\n",
      "    grid:\r\n",
      "      - 0.25\r\n",
      "      - 0.25\r\n",
      "  path: single_hour.nc\r\n"
     ]
    }
   ],
   "source": [
    "!cat config_file.yaml"
   ]
  },
  {
   "cell_type": "markdown",
   "id": "comic-shannon",
   "metadata": {},
   "source": [
    "Use variable related methods to check the variable information of the ERA5 dataset."
   ]
  },
  {
   "cell_type": "code",
   "execution_count": 6,
   "id": "dedicated-receipt",
   "metadata": {},
   "outputs": [
    {
     "name": "stdout",
     "output_type": "stream",
     "text": [
      "variable_name: 2 metre temperature \n",
      "var_unit: K \n",
      "var_location: node \n",
      "var_type: int16 \n",
      "var_grid: 0 \n",
      "var_itemsize: 2\n",
      "var_nbytes: 1218 \n",
      "\n",
      "variable_name: Total precipitation \n",
      "var_unit: m \n",
      "var_location: node \n",
      "var_type: int16 \n",
      "var_grid: 0 \n",
      "var_itemsize: 2\n",
      "var_nbytes: 1218 \n",
      "\n"
     ]
    }
   ],
   "source": [
    "# get variable info\n",
    "for var_name in data_comp.output_var_names:\n",
    "    var_unit = data_comp.var_units(var_name)\n",
    "    var_location = data_comp.var_location(var_name)\n",
    "    var_type = data_comp.var_type(var_name)\n",
    "    var_grid = data_comp.var_grid(var_name)\n",
    "    var_itemsize = data_comp.var_itemsize(var_name)\n",
    "    var_nbytes = data_comp.var_nbytes(var_name)\n",
    "\n",
    "    print('variable_name: {} \\nvar_unit: {} \\nvar_location: {} \\nvar_type: {} \\nvar_grid: {} \\nvar_itemsize: {}'\n",
    "        '\\nvar_nbytes: {} \\n'. format(var_name, var_unit, var_location, var_type, var_grid, var_itemsize, var_nbytes))"
   ]
  },
  {
   "cell_type": "markdown",
   "id": "14dc412a",
   "metadata": {},
   "source": [
    "Use time related methods to check the time information of the ERA5 dataset. The time values are stored in a format which follows [CF convention](http://cfconventions.org/Data/cf-conventions/cf-conventions-1.8/cf-conventions.pdf)."
   ]
  },
  {
   "cell_type": "code",
   "execution_count": 7,
   "id": "980f3a9e",
   "metadata": {},
   "outputs": [
    {
     "name": "stdout",
     "output_type": "stream",
     "text": [
      "start_time: 1060680 \n",
      "end_time: 1060682 \n",
      "time_step: 1 \n",
      "time_units: hours since 1900-01-01 00:00:00.0 \n",
      "time_steps: 3\n"
     ]
    }
   ],
   "source": [
    "# get time info\n",
    "start_time = data_comp.start_time\n",
    "end_time = data_comp.end_time\n",
    "time_step = data_comp.time_step\n",
    "time_units = data_comp.time_units\n",
    "time_steps = int((end_time - start_time)/time_step) + 1\n",
    "\n",
    "print('start_time: {} \\nend_time: {} \\ntime_step: {} \\ntime_units: {} \\ntime_steps: {}'.format(\n",
    "        start_time, end_time, time_step, time_units, time_steps))"
   ]
  },
  {
   "cell_type": "markdown",
   "id": "analyzed-norman",
   "metadata": {},
   "source": [
    "Use grid related methods to check the grid information of the ERA5 dataset. "
   ]
  },
  {
   "cell_type": "code",
   "execution_count": 8,
   "id": "violent-michigan",
   "metadata": {},
   "outputs": [
    {
     "name": "stdout",
     "output_type": "stream",
     "text": [
      "grid_type: uniform_rectilinear \n",
      "grid_rank: 2 \n",
      "grid_shape: [21 29] \n",
      "grid_spacing: [ 0.25  0.25] \n",
      "grid_origin: [  36. -109.]\n"
     ]
    }
   ],
   "source": [
    "# get variable grid info\n",
    "grid_type = data_comp.grid_type(var_grid)\n",
    "grid_rank = data_comp.grid_ndim(var_grid)\n",
    "grid_shape = data_comp.grid_shape(var_grid)\n",
    "grid_spacing = data_comp.grid_spacing(var_grid)\n",
    "grid_origin = data_comp.grid_origin(var_grid)\n",
    "\n",
    "print('grid_type: {} \\ngrid_rank: {} \\ngrid_shape: {} \\ngrid_spacing: {} \\ngrid_origin: {}'.format(\n",
    "    grid_type, grid_rank, grid_shape, grid_spacing, grid_origin))"
   ]
  },
  {
   "cell_type": "markdown",
   "id": "monetary-exception",
   "metadata": {},
   "source": [
    "Use get_value( ) method to get the temperature data as a numpy array. Please note that the default behavior of pymt components is to flatten data arrays. So make a new variable that restores the dimensionality of the data."
   ]
  },
  {
   "cell_type": "code",
   "execution_count": 9,
   "id": "ideal-grave",
   "metadata": {},
   "outputs": [
    {
     "name": "stdout",
     "output_type": "stream",
     "text": [
      "(609,) (21, 29)\n"
     ]
    }
   ],
   "source": [
    "# get variable data\n",
    "data = data_comp.get_value('2 metre temperature')\n",
    "data_2D = data.reshape(grid_shape)\n",
    "\n",
    "print(data.shape, data_2D.shape)"
   ]
  },
  {
   "cell_type": "markdown",
   "id": "aggressive-synthesis",
   "metadata": {},
   "source": [
    "Now let's make a plot of the temperature data. "
   ]
  },
  {
   "cell_type": "code",
   "execution_count": 10,
   "id": "aerial-austria",
   "metadata": {},
   "outputs": [
    {
     "data": {
      "text/plain": [
       "Text(0.5, 1.0, '2 metre temperature in Colorado on Jan 1st, 2021 at 00:00')"
      ]
     },
     "execution_count": 10,
     "metadata": {},
     "output_type": "execute_result"
    },
    {
     "data": {
      "image/png": "[encoded data removed]",
      "text/plain": [
       "<Figure size 648x360 with 2 Axes>"
      ]
     },
     "metadata": {
      "needs_background": "light"
     },
     "output_type": "display_data"
    }
   ],
   "source": [
    "# get X, Y extent for plot\n",
    "min_y, min_x = grid_origin\n",
    "max_y = min_y + grid_spacing[0]*grid_shape[0]\n",
    "max_x = min_x + grid_spacing[1]*grid_shape[1]\n",
    "dy = grid_spacing[0]/2\n",
    "dx = grid_spacing[1]/2\n",
    "extent = [min_x - dx, max_x + dx, min_y - dy, max_y + dy]\n",
    "\n",
    "# plot data\n",
    "fig, ax = plt.subplots(1,1, figsize=(9,5))\n",
    "im = ax.imshow(data_2D, extent=extent)\n",
    "cbar = fig.colorbar(im)\n",
    "cbar.set_label('2 metre temperature [K]')\n",
    "plt.xlabel('longitude [degree_east]')\n",
    "plt.ylabel('latitude [degree_north]')\n",
    "plt.title('2 metre temperature in Colorado on Jan 1st, 2021 at 00:00')"
   ]
  },
  {
   "cell_type": "markdown",
   "id": "going-discussion",
   "metadata": {},
   "source": [
    "Complete the example by finalizing the component. finalize( ) method performs tasks that take place after using the data component, such as deallocating memory and closing files."
   ]
  },
  {
   "cell_type": "code",
   "execution_count": 11,
   "id": "published-vault",
   "metadata": {},
   "outputs": [],
   "source": [
    "data_comp.finalize()"
   ]
  }
 ],
 "metadata": {
  "kernelspec": {
   "display_name": "Python 3 (ipykernel)",
   "language": "python",
   "name": "python3"
  },
  "language_info": {
   "codemirror_mode": {
    "name": "ipython",
    "version": 3
   },
   "file_extension": ".py",
   "mimetype": "text/x-python",
   "name": "python",
   "nbconvert_exporter": "python",
   "pygments_lexer": "ipython3",
   "version": "3.9.7"
  }
 },
 "nbformat": 4,
 "nbformat_minor": 5
}
